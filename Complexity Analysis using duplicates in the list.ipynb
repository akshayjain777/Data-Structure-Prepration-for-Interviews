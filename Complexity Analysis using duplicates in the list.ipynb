{
 "cells": [
  {
   "cell_type": "code",
   "execution_count": 7,
   "id": "7a948df2",
   "metadata": {},
   "outputs": [],
   "source": [
    "a = [1,2,3,2,1,5,6,5,5,5]"
   ]
  },
  {
   "cell_type": "code",
   "execution_count": 34,
   "id": "80fc9341",
   "metadata": {},
   "outputs": [],
   "source": [
    "### Which is better M1 or M3?"
   ]
  },
  {
   "cell_type": "markdown",
   "id": "6336031f",
   "metadata": {},
   "source": [
    "# Complexity of M3> M2 >M4"
   ]
  },
  {
   "cell_type": "markdown",
   "id": "36e73d58",
   "metadata": {},
   "source": [
    "# Method -1\n",
    "using for loop and if condition"
   ]
  },
  {
   "cell_type": "code",
   "execution_count": 8,
   "id": "f337f455",
   "metadata": {},
   "outputs": [],
   "source": [
    "def checkDuplicate(a):\n",
    "    lst =[]\n",
    "    for i in a:\n",
    "        if i not in lst:\n",
    "            lst.append(i)\n",
    "        else:\n",
    "            return True\n",
    "    return False"
   ]
  },
  {
   "cell_type": "code",
   "execution_count": 31,
   "id": "7f4d8cac",
   "metadata": {},
   "outputs": [
    {
     "data": {
      "text/plain": [
       "True"
      ]
     },
     "execution_count": 31,
     "metadata": {},
     "output_type": "execute_result"
    }
   ],
   "source": [
    "checkDuplicate(a)"
   ]
  },
  {
   "cell_type": "code",
   "execution_count": 29,
   "id": "2dddef3a",
   "metadata": {},
   "outputs": [],
   "source": [
    "def checkIfDuplicates_3(listOfElems):    \n",
    "    se = set()\n",
    "    for i in listOfElems:\n",
    "        if i not in se:\n",
    "            se.add(i)\n",
    "        else:\n",
    "            return True         \n",
    "    return False"
   ]
  },
  {
   "cell_type": "code",
   "execution_count": 30,
   "id": "1e51e3f5",
   "metadata": {},
   "outputs": [
    {
     "data": {
      "text/plain": [
       "True"
      ]
     },
     "execution_count": 30,
     "metadata": {},
     "output_type": "execute_result"
    }
   ],
   "source": [
    "checkIfDuplicates_3(a)"
   ]
  },
  {
   "cell_type": "markdown",
   "id": "d5870e03",
   "metadata": {},
   "source": [
    "# Method-2\n",
    "Check for duplicates in a list using Set & by comparing sizes"
   ]
  },
  {
   "cell_type": "code",
   "execution_count": 13,
   "id": "7db43815",
   "metadata": {},
   "outputs": [],
   "source": [
    "def checkIfDuplicates_2(listOfElems):\n",
    "    ''' Check if given list contains any duplicates '''\n",
    "    if len(listOfElems) == len(set(listOfElems)):\n",
    "        return False\n",
    "    else:\n",
    "        return True"
   ]
  },
  {
   "cell_type": "code",
   "execution_count": 14,
   "id": "a3bbcc71",
   "metadata": {},
   "outputs": [
    {
     "data": {
      "text/plain": [
       "True"
      ]
     },
     "execution_count": 14,
     "metadata": {},
     "output_type": "execute_result"
    }
   ],
   "source": [
    "checkIfDuplicates_1(a)"
   ]
  },
  {
   "cell_type": "markdown",
   "id": "afccfda9",
   "metadata": {},
   "source": [
    "# Complexity using set is n(log(n))"
   ]
  },
  {
   "cell_type": "markdown",
   "id": "c46e21a7",
   "metadata": {},
   "source": [
    "1. As we are creating a set from list, so complexity will be n(log(n)). Comparing size is a O(1) operation. So, complexity of this solution is n(log(n)).\n",
    "2. Even in best scenario i.e. if list contains only duplicated element, still this solution’s complexity will be n(log(n)) because we are just adding all the elements from list to set."
   ]
  },
  {
   "cell_type": "markdown",
   "id": "c78a3a7c",
   "metadata": {},
   "source": [
    "# Method -3 \n",
    "Check for duplicates in list using Set & looking for first duplicate"
   ]
  },
  {
   "cell_type": "code",
   "execution_count": 32,
   "id": "5609641d",
   "metadata": {},
   "outputs": [],
   "source": [
    "def checkIfDuplicates_3(listOfElems):    \n",
    "    se = set()\n",
    "    for i in listOfElems:\n",
    "        if i not in se:\n",
    "            se.add(i)\n",
    "        else:\n",
    "            return True         \n",
    "    return False"
   ]
  },
  {
   "cell_type": "code",
   "execution_count": 33,
   "id": "b402b619",
   "metadata": {},
   "outputs": [
    {
     "data": {
      "text/plain": [
       "True"
      ]
     },
     "execution_count": 33,
     "metadata": {},
     "output_type": "execute_result"
    }
   ],
   "source": [
    "checkIfDuplicates_3(a)"
   ]
  },
  {
   "cell_type": "markdown",
   "id": "dcf33de9",
   "metadata": {},
   "source": [
    "# Complexity is better than M2 for the best case it will be less than n(log(n))"
   ]
  },
  {
   "cell_type": "markdown",
   "id": "479821c2",
   "metadata": {},
   "source": [
    "1. In worst case we will add all elements of list in a set to find that our list doesn’t contain any duplicate. So, worst case complexity will be n(log(n)).\n",
    "2. In best case, we will get to know about duplicate as soon as we encounter it during iteration. So, it will be much lesser than n(log(n))."
   ]
  },
  {
   "cell_type": "markdown",
   "id": "45781532",
   "metadata": {},
   "source": [
    "# Method -4\n",
    "Check if list contains duplicates using list.count()"
   ]
  },
  {
   "cell_type": "code",
   "execution_count": 17,
   "id": "a7354574",
   "metadata": {},
   "outputs": [],
   "source": [
    "def checkIfDuplicates_4(listOfElems):\n",
    "    ''' Check if given list contains any duplicates '''    \n",
    "    for elem in listOfElems:\n",
    "        if listOfElems.count(elem) > 1:\n",
    "            return True\n",
    "    return False"
   ]
  },
  {
   "cell_type": "code",
   "execution_count": 18,
   "id": "31af90d6",
   "metadata": {},
   "outputs": [
    {
     "data": {
      "text/plain": [
       "True"
      ]
     },
     "execution_count": 18,
     "metadata": {},
     "output_type": "execute_result"
    }
   ],
   "source": [
    "checkIfDuplicates_4(a)"
   ]
  },
  {
   "cell_type": "markdown",
   "id": "59a0a6bb",
   "metadata": {},
   "source": [
    "# Complexity Analysis of this solution\n",
    "This is the most inefficient solution till now with complexity O(n^2)"
   ]
  },
  {
   "cell_type": "markdown",
   "id": "268d5b08",
   "metadata": {},
   "source": [
    "1. Here we are iterating over all the elements of list and check count of each element in the list. If count > 1 then it means this element has duplicate entries.\n",
    "2. This is the most inefficient solution till now with complexity O(n^2)"
   ]
  },
  {
   "cell_type": "code",
   "execution_count": null,
   "id": "4df28555",
   "metadata": {},
   "outputs": [],
   "source": []
  }
 ],
 "metadata": {
  "kernelspec": {
   "display_name": "Python 3.8.13 ('tensorflow')",
   "language": "python",
   "name": "python3813jvsc74a57bd02d979bf07d3abbabe4ec79c8fbb64f41c2ace49e826064bd1b1fc934ae914401"
  },
  "language_info": {
   "codemirror_mode": {
    "name": "ipython",
    "version": 3
   },
   "file_extension": ".py",
   "mimetype": "text/x-python",
   "name": "python",
   "nbconvert_exporter": "python",
   "pygments_lexer": "ipython3",
   "version": "3.8.13"
  }
 },
 "nbformat": 4,
 "nbformat_minor": 5
}
